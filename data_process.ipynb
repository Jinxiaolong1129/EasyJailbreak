{
 "cells": [
  {
   "cell_type": "code",
   "execution_count": 3,
   "metadata": {},
   "outputs": [],
   "source": [
    "from IPython.core.interactiveshell import InteractiveShell\n",
    "InteractiveShell.ast_node_interactivity = \"all\" "
   ]
  },
  {
   "cell_type": "code",
   "execution_count": 2,
   "metadata": {},
   "outputs": [],
   "source": [
    "import json\n",
    "\n",
    "# Load the JSONL file\n",
    "file_path = '/home/jin509/EasyJailbreak/results/advbench_target.chatglm3-6b_eval.gpt-3.5-turbo-back.jsonl'\n",
    "\n",
    "# Read and process the JSONL file\n",
    "with open(file_path, 'r') as file:\n",
    "    lines = file.readlines()\n",
    "\n",
    "# Parse each line as JSON and add the \"query_index\"\n",
    "data = []\n",
    "for index, line in enumerate(lines):\n",
    "    record = json.loads(line)\n",
    "    record[\"query_index\"] = index - 250\n",
    "    data.append(record)\n",
    "\n",
    "# Save the updated data back to a JSONL file\n",
    "output_file_path = '/home/jin509/EasyJailbreak/results/advbench_target.chatglm3-6b_eval.gpt-3.5-turbo-back.jsonl'\n",
    "with open(output_file_path, 'w') as output_file:\n",
    "    for record in data:\n",
    "        json.dump(record, output_file)\n",
    "        output_file.write('\\n')"
   ]
  },
  {
   "cell_type": "code",
   "execution_count": null,
   "metadata": {},
   "outputs": [],
   "source": [
    "import json\n",
    "\n",
    "file_path = '/home/jin509/EasyJailbreak/results/advbench_target.gpt-4_eval.gpt-3.5-turbo.jsonl'\n",
    "\n",
    "with open(file_path, 'r') as file:\n",
    "    lines = file.readlines()\n",
    "\n",
    "data = []\n",
    "for index, line in enumerate(lines):\n",
    "    record = json.loads(line)\n",
    "    # record[\"query_index\"] = index\n",
    "    data.append(record)\n",
    "\n",
    "filtered_indices = [record[\"query_index\"] for record in data if record[\"eval_results\"] == [False]]\n",
    "\n",
    "print(filtered_indices)\n",
    "len(filtered_indices)\n"
   ]
  },
  {
   "cell_type": "code",
   "execution_count": null,
   "metadata": {},
   "outputs": [],
   "source": []
  }
 ],
 "metadata": {
  "kernelspec": {
   "display_name": "jailbreak",
   "language": "python",
   "name": "python3"
  },
  "language_info": {
   "codemirror_mode": {
    "name": "ipython",
    "version": 3
   },
   "file_extension": ".py",
   "mimetype": "text/x-python",
   "name": "python",
   "nbconvert_exporter": "python",
   "pygments_lexer": "ipython3",
   "version": "3.9.19"
  }
 },
 "nbformat": 4,
 "nbformat_minor": 2
}
